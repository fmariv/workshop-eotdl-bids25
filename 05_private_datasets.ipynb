{
 "cells": [
  {
   "cell_type": "markdown",
   "metadata": {},
   "source": [
    "# Private datasets\n"
   ]
  },
  {
   "cell_type": "markdown",
   "metadata": {},
   "source": [
    "By default, all the datasets and models in EOTDL are public. However, you can create private datasets and models that only you (and other allowed users) can access.\n",
    "\n",
    "At ingestion time, you can specify if a dataset should be private or not by using the appropriate function from the library or command on the CLI.\n"
   ]
  },
  {
   "cell_type": "code",
   "execution_count": 2,
   "metadata": {},
   "outputs": [],
   "source": [
    "# create README.md\n",
    "\n",
    "text = \"\"\"---\n",
    "name: EuroSAT-small-bids25-private\n",
    "authors: \n",
    "  - Fran Martín\n",
    "license: free\n",
    "source: https://github.com/earthpulse/eotdl/blob/main/tutorials/notebooks/02_ingesting.ipynb\n",
    "---\n",
    "\n",
    "# EuroSAT-small-private\n",
    "\n",
    "This is a private small subet of the EuroSAT dataset used in the BiDS25 tutorial\n",
    "\"\"\"\n",
    "\n",
    "!cp -Rf workshop_data/EuroSAT-small workshop_data/EuroSAT-small-private\n",
    "path = \"workshop_data/EuroSAT-small-private\"\n",
    "\n",
    "with open(f\"{path}/README.md\", \"w\") as outfile:\n",
    "    outfile.write(text)"
   ]
  },
  {
   "cell_type": "markdown",
   "metadata": {},
   "source": [
    "Now, we can ingest the dataset using the CLI:\n"
   ]
  },
  {
   "cell_type": "code",
   "execution_count": 3,
   "metadata": {},
   "outputs": [
    {
     "name": "stdout",
     "output_type": "stream",
     "text": [
      "Ingesting private dataset\n",
      "Ingesting folder\n",
      "Ingesting directory: workshop_data/EuroSAT-small-private\n",
      "Preparing files: 100%|████████████████████████| 10/10 [00:00<00:00, 1380.11it/s]\n",
      "Ingesting files: 100%|████████████████████████████| 8/8 [00:04<00:00,  1.81it/s]\n"
     ]
    }
   ],
   "source": [
    "!uv run eotdl datasets ingest -p workshop_data/EuroSAT-small-private -pr"
   ]
  },
  {
   "cell_type": "markdown",
   "metadata": {},
   "source": [
    "Or using the Python library:\n"
   ]
  },
  {
   "cell_type": "code",
   "execution_count": 4,
   "metadata": {},
   "outputs": [
    {
     "name": "stdout",
     "output_type": "stream",
     "text": [
      "Ingesting private dataset\n",
      "Ingesting folder\n",
      "Ingesting directory: workshop_data/EuroSAT-small-private\n"
     ]
    },
    {
     "name": "stderr",
     "output_type": "stream",
     "text": [
      "Preparing files: 100%|██████████| 10/10 [00:00<00:00, 3823.08it/s]\n",
      "Ingesting files: 100%|██████████| 8/8 [00:01<00:00,  5.03it/s]\n"
     ]
    },
    {
     "name": "stdout",
     "output_type": "stream",
     "text": [
      "No new version was created, your dataset has not changed.\n"
     ]
    }
   ],
   "source": [
    "from eotdl.datasets import ingest_dataset\n",
    "\n",
    "ingest_dataset(path, private=True)"
   ]
  },
  {
   "cell_type": "markdown",
   "metadata": {},
   "source": [
    "In order to retrieve private datasets, you need to be authenticated and use the appropriate function or command.\n"
   ]
  },
  {
   "cell_type": "code",
   "execution_count": 5,
   "metadata": {},
   "outputs": [
    {
     "data": {
      "text/plain": [
       "False"
      ]
     },
     "execution_count": 5,
     "metadata": {},
     "output_type": "execute_result"
    }
   ],
   "source": [
    "from eotdl.datasets import retrieve_datasets\n",
    "\n",
    "\"EuroSAT-small-bids25-private\" in retrieve_datasets()"
   ]
  },
  {
   "cell_type": "code",
   "execution_count": 6,
   "metadata": {},
   "outputs": [
    {
     "data": {
      "text/plain": [
       "['EuroSAT-small-bids25-private']"
      ]
     },
     "execution_count": 6,
     "metadata": {},
     "output_type": "execute_result"
    }
   ],
   "source": [
    "from eotdl.datasets import retrieve_private_datasets\n",
    "\n",
    "retrieve_private_datasets()"
   ]
  },
  {
   "cell_type": "code",
   "execution_count": 7,
   "metadata": {},
   "outputs": [
    {
     "name": "stdout",
     "output_type": "stream",
     "text": [
      "['EuroSAT-small-bids25', 'EuroSAT-RGB-bids25', 'boadella-jsl2025', 'EuroSAT-small-jsl2025', 'RFInject', 'Boadella-LPS25', 'EuroSAT-small-lps25', 'HyperspectralSimForS2-waters', 'SatellogicDataset', 'MassachusettsRoadsS2', 'EuroCropsCloudNative', 'MSC-France', 'ESAWAAI', 'JPL-CH4-detection', 'HYPERVIEW2', 'PASTIS-HD', 'xView2', 'crop-type-mapping-south-sudan', 'Five-Billion-Pixels', 'CROPGRIDS', 'DynamicEarthNet', 'sen1floods11', 'SpaceNet7', 'ai4smallfarms', 'HLS-Burn-Scars', 'MADOS-Marine-Debris-Oil-Spill', 'SeeingBeyondTheVisible', 'OrbitalAI', 'IMAGINe', 'EnhancedS2Agriculture', 'AirQualityAndHealth', 'AI4Sen2Cor-Datasets', 'EuroSAT-Q1-small', 'UrbanSARFloods', 'MMFlood', 'Sen1Floods11', 'ship-segmentation-dataset', 'Sentinel-2-Ships', 'CloudSEN12', 'TAIGA', 'GlobalInventorySolarPhotovoltaic', 'AirbusShipDetection', 'xview3', 'ai4arctic-sea-ice-challenge-raw', 'ai4arctic-sea-ice-challenge-ready-to-train', 'AERONET', 'EuroSAT-RGB-small', 'Boadella-PhiLab24', 'SEN12MS-CR', 'DeepGlobeRoadExtraction', 'MassachusettsRoadsDataset', 'OpenEarthMap', 'ESA-Worldcover', 'AlignSAR-Groningen-Sentinel1-Q0', 'AI4EO-MapYourCity', 'Enhanced-Sentinel-2-Agriculture', 'WorldStrat', 'SEN2Venus', 'AlignSAR-Groningen-Sentinel1-Q1', 'SEN12MS', 'AlignSAR-Chennai-OilSpill-Sentinel1-Q0', 'PhilEO-downstream', 'Alignsar', 'boadella-dataset', 'EuroSAT-RGB', 'EuroSAT-RGB-Q2', 'Boadella-BiDS23', 'COWC', 'Stanford-Drone-dataset', 'EuroSAT-RGB-STAC', 'BigEarthNet', 'xview2', 'LandcoverAI', 'open-cities-tt2-source', 'open-cities-tt1-source', 'open-cities-test', 'PASTIS-R', 'EuroCrops', 'SloveniaLandCover', 'ISPRS-Potsdam2D', 'SEN12-FLOOD', 'Urban3dChallenge', 'tropical-cyclone-dataset', 'Vessel-detection', 'Airplanes-detection', 'S2-SHIPS', 'SpaceNet-7', 'Sentinel-2-Cloud-Mask', 'PASTIS', 'FlodNet', 'SeCo100k', 'SeCo', 'AirbusAircraftDetection', 'AirbusWindTurbinesPatches', 'RoadNet', 'EuroSAT', 'UCMerced']\n"
     ]
    }
   ],
   "source": [
    "!uv run eotdl datasets list"
   ]
  },
  {
   "cell_type": "code",
   "execution_count": 8,
   "metadata": {},
   "outputs": [
    {
     "name": "stdout",
     "output_type": "stream",
     "text": [
      "['EuroSAT-small-bids25-private']\n"
     ]
    }
   ],
   "source": [
    "!uv run eotdl datasets list --private"
   ]
  },
  {
   "cell_type": "markdown",
   "metadata": {},
   "source": [
    "And the same applies to stage the dataset. You can do it by using the CLI:\n"
   ]
  },
  {
   "cell_type": "code",
   "execution_count": 9,
   "metadata": {},
   "outputs": [
    {
     "name": "stdout",
     "output_type": "stream",
     "text": [
      "Staging assets: 100%|█████████████████████████████| 8/8 [00:03<00:00,  2.01it/s]\n",
      "Data available at data/outputs/private/EuroSAT-small-bids25-private\n"
     ]
    }
   ],
   "source": [
    "!uv run eotdl datasets get EuroSAT-small-bids25-private -p data/outputs/private -f -a"
   ]
  },
  {
   "cell_type": "markdown",
   "metadata": {},
   "source": [
    "Or the Python Library:\n"
   ]
  },
  {
   "cell_type": "code",
   "execution_count": 10,
   "metadata": {},
   "outputs": [
    {
     "data": {
      "text/plain": [
       "'data/outputs/private/EuroSAT-small-bids25-private'"
      ]
     },
     "execution_count": 10,
     "metadata": {},
     "output_type": "execute_result"
    }
   ],
   "source": [
    "from eotdl.datasets import stage_dataset\n",
    "\n",
    "stage_dataset(\"EuroSAT-small-bids25-private\", path=\"data/outputs/private\", force=True)"
   ]
  },
  {
   "cell_type": "markdown",
   "metadata": {},
   "source": [
    "And other users should not be able to access the dataset! Moreover, if we try to create a new dataset with the same name, it should fail. Unique names are enforced, even for private datasets.\n"
   ]
  },
  {
   "cell_type": "markdown",
   "metadata": {},
   "source": [
    "## Discussion and Contribution opportunities\n",
    "\n",
    "Feel free to ask questions now (live or through Discord) and make suggestions for future improvements.\n",
    "\n",
    "- Do you value having private datasets, or would you rather open them?\n",
    "- What do you think about the private datasets feature? Do you think it's something work to pay for?\n"
   ]
  }
 ],
 "metadata": {
  "kernelspec": {
   "display_name": ".venv",
   "language": "python",
   "name": "python3"
  },
  "language_info": {
   "codemirror_mode": {
    "name": "ipython",
    "version": 3
   },
   "file_extension": ".py",
   "mimetype": "text/x-python",
   "name": "python",
   "nbconvert_exporter": "python",
   "pygments_lexer": "ipython3",
   "version": "3.12.8"
  }
 },
 "nbformat": 4,
 "nbformat_minor": 2
}
