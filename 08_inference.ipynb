{
 "cells": [
  {
   "cell_type": "code",
   "execution_count": null,
   "metadata": {},
   "outputs": [],
   "source": [
    "import eotdl\n",
    "\n",
    "eotdl.__version__"
   ]
  },
  {
   "cell_type": "markdown",
   "metadata": {},
   "source": [
    "Stage the model\n"
   ]
  },
  {
   "cell_type": "code",
   "execution_count": null,
   "metadata": {},
   "outputs": [],
   "source": [
    "from eotdl.models import stage_model\n",
    "\n",
    "path = stage_model(\"RoadSegmentation\", path=\"data\", version=2, force=True, assets=True)\n",
    "model = f\"{path}/model.onnx\"\n",
    "\n",
    "model"
   ]
  },
  {
   "cell_type": "markdown",
   "metadata": {},
   "source": [
    "Prepare the inputs\n"
   ]
  },
  {
   "cell_type": "code",
   "execution_count": null,
   "metadata": {},
   "outputs": [],
   "source": [
    "from PIL import Image\n",
    "import matplotlib.pyplot as plt\n",
    "\n",
    "img_path = \"assets/deep_globe.jpg\"\n",
    "\n",
    "img = Image.open(img_path)\n",
    "plt.imshow(img)\n",
    "plt.axis(\"off\")\n",
    "plt.show()"
   ]
  },
  {
   "cell_type": "code",
   "execution_count": null,
   "metadata": {},
   "outputs": [],
   "source": [
    "import numpy as np\n",
    "\n",
    "imgs = np.array(img).transpose(2, 0, 1)[np.newaxis, ...].astype(np.float32) / 255.0\n",
    "\n",
    "imgs.shape, imgs.dtype, imgs.min(), imgs.max()"
   ]
  },
  {
   "cell_type": "markdown",
   "metadata": {},
   "source": [
    "Load and run the model\n"
   ]
  },
  {
   "cell_type": "code",
   "execution_count": null,
   "metadata": {},
   "outputs": [],
   "source": [
    "import onnxruntime\n",
    "import numpy as np\n",
    "\n",
    "ort_session = onnxruntime.InferenceSession(model)\n",
    "input_name = ort_session.get_inputs()[0].name\n",
    "\n",
    "\n",
    "ort_inputs = {input_name: imgs}\n",
    "ort_outs = ort_session.run(None, ort_inputs)\n",
    "mask = ort_outs[0] > 0"
   ]
  },
  {
   "cell_type": "markdown",
   "metadata": {},
   "source": [
    "Visualize the results\n"
   ]
  },
  {
   "cell_type": "code",
   "execution_count": null,
   "metadata": {},
   "outputs": [],
   "source": [
    "# Squeeze the mask to remove extra dimensions\n",
    "mask_squeezed = np.squeeze(mask)\n",
    "\n",
    "# Create a figure with 3 subplots in a row\n",
    "fig, (ax1, ax2, ax3) = plt.subplots(1, 3, figsize=(20, 7))\n",
    "\n",
    "# Plot the original image\n",
    "ax1.imshow(img)\n",
    "ax1.axis(\"off\")\n",
    "ax1.set_title(\"Original Image\")\n",
    "\n",
    "# Plot the segmentation mask\n",
    "ax2.imshow(mask_squeezed, cmap=\"gray\")\n",
    "ax2.axis(\"off\")\n",
    "ax2.set_title(\"Segmentation Mask\")\n",
    "\n",
    "# Plot the image with mask overlay\n",
    "overlay = np.zeros_like(img)\n",
    "overlay[:, :, 1] = mask_squeezed * 255  # Green channel for the mask\n",
    "ax3.imshow(img)\n",
    "ax3.imshow(overlay, alpha=0.5)\n",
    "ax3.axis(\"off\")\n",
    "ax3.set_title(\"Image with Mask Overlay\")\n",
    "\n",
    "plt.tight_layout()\n",
    "plt.show()"
   ]
  }
 ],
 "metadata": {
  "kernelspec": {
   "display_name": ".venv",
   "language": "python",
   "name": "python3"
  },
  "language_info": {
   "codemirror_mode": {
    "name": "ipython",
    "version": 3
   },
   "file_extension": ".py",
   "mimetype": "text/x-python",
   "name": "python",
   "nbconvert_exporter": "python",
   "pygments_lexer": "ipython3",
   "version": "3.12.7"
  }
 },
 "nbformat": 4,
 "nbformat_minor": 2
}
